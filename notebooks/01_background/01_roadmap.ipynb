{
 "cells": [
  {
   "cell_type": "markdown",
   "metadata": {},
   "source": [
    "# Math Primer for BLS and BN254\n",
    "\n",
    "We'll begin with fundamental concepts in set theory, group theory, and ring theory. These will provide the basis for understanding more advanced structures like fields and vector spaces. Number theory and Euclidean domains will be introduced to provide essential tools for cryptographic applications.\n",
    "\n",
    "As we progress, we'll delve into algebraic varieties and elliptic curves, which are crucial for understanding the BN254 curve. We'll then explore bilinear pairings, which are fundamental to the BLS signature scheme.\n",
    "\n",
    "Finally, we'll apply these concepts to the specific case of the BN254 curve and the BLS signature scheme, culminating in an exploration of threshold signatures, R1CS, and distributed multi-party computation.\n",
    "\n",
    "By the end of this primer, readers will have a solid grasp of the mathematical concepts necessary to understand and implement BLS threshold signatures using the BN254 pairing. This knowledge is crucial for developing secure and efficient cryptographic protocols in various applications, including blockchain technology and distributed systems.\n",
    "\n",
    "The roadmap of our journey will be Sets → Groups → Rings → Domains → Fields → Vector Spaces → Algebraic Varieties → Elliptic Curves → Bilinear Pairings -> BN254 -> BLS -> BLS Thresholds -> R1CS -> Distributed MPC, rougly."
   ]
  }
 ],
 "metadata": {
  "language_info": {
   "name": "python"
  }
 },
 "nbformat": 4,
 "nbformat_minor": 2
}
