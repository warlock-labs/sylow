{
 "cells": [
  {
   "cell_type": "markdown",
   "metadata": {},
   "source": [
    "## Barreto-Naehrig (BN) Curves\n",
    "\n",
    "### Definition and Properties\n",
    "\n",
    "Barreto-Naehrig (BN) curves are a family of pairing-friendly elliptic curves defined over a prime field $\\mathbb{F}_p$. They have the following key properties:\n",
    "\n",
    "1. Prime order: The order of the curve is a prime number $n$.\n",
    "2. Embedding degree: $k = 12$\n",
    "3. CM discriminant: $D = 3$\n",
    "4. Equation form: $E: y^2 = x^3 + b$, where $b \\neq 0$\n",
    "\n",
    "BN curves are particularly significant because:\n",
    "- They support curves of prime order, which is crucial for certain applications and efficient implementations.\n",
    "- They have an embedding degree of 12, which provides a good balance between security and efficiency for pairing-based cryptography.\n",
    "\n",
    "### Parameterization\n",
    "\n",
    "BN curves are parameterized by a single integer $x$. The key parameters of the curve are defined as polynomials in $x$:\n",
    "\n",
    "1. Trace of Frobenius: $t(x) = 6x^2 + 1$\n",
    "2. Prime field order: $p(x) = 36x^4 - 36x^3 + 24x^2 - 6x + 1$\n",
    "3. Curve order: $n(x) = 36x^4 - 36x^3 + 18x^2 - 6x + 1$\n",
    "\n",
    "For cryptographic use, $x$ is chosen such that both $p(x)$ and $n(x)$ are prime numbers of the desired bit-length.\n",
    "\n",
    "### Embedding Degree\n",
    "\n",
    "The embedding degree $k$ of a curve $E$ over $\\mathbb{F}_p$ with respect to a subgroup of prime order $r$ is the smallest positive integer $k$ such that $r | (p^k - 1)$.\n",
    "\n",
    "For BN curves:\n",
    "- The embedding degree is always $k = 12$.\n",
    "- This means that the smallest extension field $\\mathbb{F}_{p^k}$ that contains the $r$-th roots of unity is $\\mathbb{F}_{p^{12}}$.\n",
    "\n",
    "The embedding degree is crucial for pairing-based cryptography because:\n",
    "1. It determines the field in which pairing computations take place.\n",
    "2. It affects the security level of the pairing-based system.\n",
    "3. It influences the efficiency of pairing computations.\n",
    "\n",
    "For BN curves, $k = 12$ provides a good balance:\n",
    "- It's large enough to provide sufficient security against index calculus attacks on the discrete logarithm problem in the extension field.\n",
    "- It's small enough to allow for efficient implementation of field arithmetic in $\\mathbb{F}_{p^{12}}$.\n",
    "\n",
    "### Construction and Usage\n",
    "\n",
    "To construct a BN curve for cryptographic use:\n",
    "\n",
    "1. Choose an integer $x$ with low Hamming weight to optimize certain operations.\n",
    "2. Compute $p(x)$ and $n(x)$. If both are prime, proceed; otherwise, choose a different $x$.\n",
    "3. The curve equation is $E: y^2 = x^3 + b$, where $b$ is typically chosen to be a small integer (often 2 or 3).\n",
    "4. The curve is defined over $\\mathbb{F}_p$, where $p = p(x)$.\n",
    "5. The order of the curve is $n = n(x)$.\n"
   ]
  }
 ],
 "metadata": {
  "language_info": {
   "name": "python"
  }
 },
 "nbformat": 4,
 "nbformat_minor": 2
}
